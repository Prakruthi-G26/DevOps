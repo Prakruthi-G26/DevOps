{
  "nbformat": 4,
  "nbformat_minor": 0,
  "metadata": {
    "colab": {
      "provenance": [],
      "authorship_tag": "ABX9TyM9AZUO8YLOJSDs9wVO6igx",
      "include_colab_link": true
    },
    "kernelspec": {
      "name": "python3",
      "display_name": "Python 3"
    },
    "language_info": {
      "name": "python"
    }
  },
  "cells": [
    {
      "cell_type": "markdown",
      "metadata": {
        "id": "view-in-github",
        "colab_type": "text"
      },
      "source": [
        "<a href=\"https://colab.research.google.com/github/Prakruthi-G26/DevOps/blob/main/HealthAgentAI.ipynb\" target=\"_parent\"><img src=\"https://colab.research.google.com/assets/colab-badge.svg\" alt=\"Open In Colab\"/></a>"
      ]
    },
    {
      "cell_type": "markdown",
      "source": [
        "#Health Agent\n",
        "An health agent to ensure healthy lives. It performs following:\n",
        "\n",
        "* Analyse patient data and extract information like age, symptoms, diet and exercise from patient data\n",
        "* Predict chronic disease risks (Diabetes, Hypertension (BP), cancer (basic risk))\n",
        "* Personalised recommondations based on identified risks and lifestyle factors\n",
        "\n"
      ],
      "metadata": {
        "id": "XvVO8BsOlDQL"
      }
    },
    {
      "cell_type": "markdown",
      "source": [
        "# STEP 0: Install dependencies"
      ],
      "metadata": {
        "id": "13aqqoSazCvR"
      }
    },
    {
      "cell_type": "code",
      "execution_count": 1,
      "metadata": {
        "id": "g3QKD7PVk4EP",
        "colab": {
          "base_uri": "https://localhost:8080/"
        },
        "outputId": "23716ead-6e61-4251-ca7c-caf35884936e"
      },
      "outputs": [
        {
          "output_type": "stream",
          "name": "stdout",
          "text": [
            "\u001b[2K     \u001b[90m━━━━━━━━━━━━━━━━━━━━━━━━━━━━━━━━━━━━━━━━\u001b[0m \u001b[32m43.7/43.7 kB\u001b[0m \u001b[31m3.0 MB/s\u001b[0m eta \u001b[36m0:00:00\u001b[0m\n",
            "\u001b[2K   \u001b[90m━━━━━━━━━━━━━━━━━━━━━━━━━━━━━━━━━━━━━━━━\u001b[0m \u001b[32m152.5/152.5 kB\u001b[0m \u001b[31m5.4 MB/s\u001b[0m eta \u001b[36m0:00:00\u001b[0m\n",
            "\u001b[2K   \u001b[90m━━━━━━━━━━━━━━━━━━━━━━━━━━━━━━━━━━━━━━━━\u001b[0m \u001b[32m42.0/42.0 kB\u001b[0m \u001b[31m2.8 MB/s\u001b[0m eta \u001b[36m0:00:00\u001b[0m\n",
            "\u001b[2K   \u001b[90m━━━━━━━━━━━━━━━━━━━━━━━━━━━━━━━━━━━━━━━━\u001b[0m \u001b[32m767.8/767.8 kB\u001b[0m \u001b[31m26.8 MB/s\u001b[0m eta \u001b[36m0:00:00\u001b[0m\n",
            "\u001b[2K   \u001b[90m━━━━━━━━━━━━━━━━━━━━━━━━━━━━━━━━━━━━━━━━\u001b[0m \u001b[32m43.9/43.9 kB\u001b[0m \u001b[31m2.3 MB/s\u001b[0m eta \u001b[36m0:00:00\u001b[0m\n",
            "\u001b[2K   \u001b[90m━━━━━━━━━━━━━━━━━━━━━━━━━━━━━━━━━━━━━━━━\u001b[0m \u001b[32m50.6/50.6 kB\u001b[0m \u001b[31m2.8 MB/s\u001b[0m eta \u001b[36m0:00:00\u001b[0m\n",
            "\u001b[2K   \u001b[90m━━━━━━━━━━━━━━━━━━━━━━━━━━━━━━━━━━━━━━━━\u001b[0m \u001b[32m216.5/216.5 kB\u001b[0m \u001b[31m12.9 MB/s\u001b[0m eta \u001b[36m0:00:00\u001b[0m\n",
            "\u001b[?25h"
          ]
        }
      ],
      "source": [
        "!pip install -qU google-generativeai==0.8.5 google-ai-generativelanguage==0.6.15 \\\n",
        "langgraph langchain langchain-google-genai openai"
      ]
    },
    {
      "cell_type": "markdown",
      "source": [
        "# STEP 1: Imports and secure API key input"
      ],
      "metadata": {
        "id": "Giz_9L-YzK4F"
      }
    },
    {
      "cell_type": "code",
      "source": [
        "import os\n",
        "import getpass\n",
        "from langgraph.graph import StateGraph, END\n",
        "from langchain_google_genai import ChatGoogleGenerativeAI\n",
        "from langchain_core.messages import HumanMessage"
      ],
      "metadata": {
        "id": "OqFhA-N6lvfq"
      },
      "execution_count": 2,
      "outputs": []
    },
    {
      "cell_type": "markdown",
      "source": [
        "# secure gemini API key"
      ],
      "metadata": {
        "id": "cFlk721fzT8P"
      }
    },
    {
      "cell_type": "code",
      "source": [
        "os.environ[\"GOOGLE_API_KEY\"] = getpass.getpass(\"ENTER YOUR API Key:\")"
      ],
      "metadata": {
        "colab": {
          "base_uri": "https://localhost:8080/"
        },
        "id": "BGzhpj0TqZr7",
        "outputId": "a74f6356-0170-480e-8c1e-494a6f8cf036"
      },
      "execution_count": 3,
      "outputs": [
        {
          "name": "stdout",
          "output_type": "stream",
          "text": [
            "ENTER YOUR API Key:··········\n"
          ]
        }
      ]
    },
    {
      "cell_type": "markdown",
      "source": [
        "# STEP 2: Initialize Gemini 1.5 Flash"
      ],
      "metadata": {
        "id": "-RxtcdxRzf8n"
      }
    },
    {
      "cell_type": "code",
      "source": [
        "llm = ChatGoogleGenerativeAI(model=\"models/gemini-1.5-flash-latest\", temperature=0.2)"
      ],
      "metadata": {
        "id": "7QtAzIXRmH_J"
      },
      "execution_count": 4,
      "outputs": []
    },
    {
      "cell_type": "markdown",
      "source": [
        "# WORKFLOW"
      ],
      "metadata": {
        "id": "3AsNm6Edzm3p"
      }
    },
    {
      "cell_type": "markdown",
      "source": [
        "1. Getting patient data"
      ],
      "metadata": {
        "id": "OrI-BNSCzrVW"
      }
    },
    {
      "cell_type": "code",
      "source": [
        "def get_symptom(state: dict)->dict:\n",
        "  user_input = input(\"welcome. Please enter your age, symptom and lifestyle(like if you do any excercises or diet): \")\n",
        "  state[\"user_input\"] = user_input\n",
        "  return state"
      ],
      "metadata": {
        "id": "_k3G1LPXmwhP"
      },
      "execution_count": 5,
      "outputs": []
    },
    {
      "cell_type": "markdown",
      "source": [
        "2. Extracting patient information"
      ],
      "metadata": {
        "id": "hFrjZ2YAz0rb"
      }
    },
    {
      "cell_type": "code",
      "source": [
        "from langchain_core.messages import HumanMessage\n",
        "\n",
        "def extract_health_info(state: dict) -> dict:\n",
        "    prompt = (\n",
        "        \"You're a medical assistant. Extract the following health info from the text below:\\n\"\n",
        "        \"- Age (as number)\\n\"\n",
        "        \"- Symptoms (as list of words)\\n\"\n",
        "        \"- Diet (healthy/unhealthy)\\n\"\n",
        "        \"- Exercise (regular/none)\\n\"\n",
        "        \"Respond ONLY in JSON format with keys: age, symptoms, diet, exercise.\\n\\n\"\n",
        "        f\"User input: {state['user_input']}\"\n",
        "    )\n",
        "\n",
        "    response = llm.invoke([HumanMessage(content=prompt)])\n",
        "    print(\"Extracted Info:\", response.content)  # Debug\n",
        "    extracted=response.content.strip()\n",
        "    state[\"patient_info\"] = extracted\n",
        "    #\n",
        "    # try:\n",
        "    #     extracted = eval(response.content)  # Safer to use json.loads in production\n",
        "    #     state[\"patient_info\"] = extracted\n",
        "    # except Exception as e:\n",
        "    #     print(\"Failed to parse LLM response:\", e)\n",
        "    #     state[\"patient_info\"] = {}\n",
        "\n",
        "    return state\n"
      ],
      "metadata": {
        "id": "Rb7sZ5sFb0yD"
      },
      "execution_count": 17,
      "outputs": []
    },
    {
      "cell_type": "markdown",
      "source": [
        "3. Predicting chronic disease risks"
      ],
      "metadata": {
        "id": "jrfwoKTvz6Hq"
      }
    },
    {
      "cell_type": "code",
      "source": [
        "def predict_disease_risk(state: dict) -> dict:\n",
        "    info = state['patient_info']\n",
        "    prompt = (\n",
        "        \"You are a medical AI. Based on the patient info below, predict the likelihood (High/Medium/Low)\"\n",
        "        \" of developing these chronic diseases:\\n\"\n",
        "        \"- Diabetes\\n\"\n",
        "        \"- Blood Pressure\\n\"\n",
        "        \"- Cancer\\n\\n\"\n",
        "        \"Patient Info:\\n\"\n",
        "        f\"{info}\\n\\n\"\n",
        "        \"Respond in JSON like:\\n\"\n",
        "        '{\"diabetes_risk\": \"High\", \"bp_risk\": \"Medium\", \"cancer_risk\": \"Low\"}'\n",
        "    )\n",
        "\n",
        "    response = llm.invoke([HumanMessage(content=prompt)])\n",
        "    print(\"Risk Prediction:\", response.content)  # Debug\n",
        "    state[\"risk_prediction\"] = response.content.strip()\n",
        "    # try:\n",
        "    #     risk = eval(response.content)  # Or use json.loads\n",
        "    #     state[\"risk_prediction\"] = risk\n",
        "    # except Exception as e:\n",
        "    #     print(\"Failed to parse risk response:\", e)\n",
        "    #     state[\"risk_prediction\"] = {}\n",
        "\n",
        "    return state\n"
      ],
      "metadata": {
        "id": "1b-1R4K5lsgh"
      },
      "execution_count": 20,
      "outputs": []
    },
    {
      "cell_type": "markdown",
      "source": [
        "4. Personalised recommendations"
      ],
      "metadata": {
        "id": "cxi4fN1Z0Bxy"
      }
    },
    {
      "cell_type": "code",
      "source": [
        "def generate_recommendations(state: dict) -> dict:\n",
        "    info = state.get(\"patient_info\", {})\n",
        "    risks = state.get(\"risk_prediction\", {})\n",
        "\n",
        "    prompt = (\n",
        "        \"You're a wellness assistant. Based on the following patient data and disease risk levels, \"\n",
        "        \"give personalized, practical, non-technical health recommendations.\\n\"\n",
        "        \"Respond in bullet points.\\n\\n\"\n",
        "        f\"Patient Info: {info}\\n\"\n",
        "        f\"Risk Levels: {risks}\\n\"\n",
        "    )\n",
        "\n",
        "    response = llm.invoke([HumanMessage(content=prompt)])\n",
        "    state[\"recommendations\"] = response.content.strip()\n",
        "    print(\"Recommendations:\\n\", response.content)\n",
        "    return state\n"
      ],
      "metadata": {
        "id": "u4Z4Couil8lc"
      },
      "execution_count": 13,
      "outputs": []
    },
    {
      "cell_type": "markdown",
      "source": [
        "# LangGraph"
      ],
      "metadata": {
        "id": "Iv4ut_bE0KBF"
      }
    },
    {
      "cell_type": "code",
      "source": [
        "# Define nodes\n",
        "graph_builder = StateGraph(dict)\n",
        "graph_builder.set_entry_point(\"get_symptom\")\n",
        "graph_builder.add_node(\"get_symptom\", get_symptom)\n",
        "graph_builder.add_node(\"Extract\", extract_health_info)\n",
        "graph_builder.add_node(\"Predict\", predict_disease_risk)\n",
        "graph_builder.add_node(\"Recommend\", generate_recommendations)\n",
        "# Transitions\n",
        "graph_builder.add_edge(\"get_symptom\", \"Extract\")\n",
        "graph_builder.add_edge(\"Extract\", \"Predict\")\n",
        "graph_builder.add_edge(\"Predict\", \"Recommend\")\n",
        "graph_builder.add_edge(\"Recommend\", END)\n",
        "# Compile graph\n",
        "graph = graph_builder.compile()"
      ],
      "metadata": {
        "id": "uLRFZjr4pHaL"
      },
      "execution_count": 21,
      "outputs": []
    },
    {
      "cell_type": "code",
      "source": [
        "result = graph.invoke({})\n",
        "\n",
        "print(\"==== Final Output ====\\n\")\n",
        "print(\"Extracted Info:\", result['patient_info'])\n",
        "print(\"Risk Prediction:\", result['risk_prediction'])\n",
        "print(\"Recommendations:\", result['recommendations'])"
      ],
      "metadata": {
        "id": "0pTCKy9jpOGK",
        "colab": {
          "base_uri": "https://localhost:8080/"
        },
        "outputId": "b82578e8-bd41-4fd9-b8a2-fc08ed631ecf"
      },
      "execution_count": 22,
      "outputs": [
        {
          "output_type": "stream",
          "name": "stdout",
          "text": [
            "welcome. Please enter your age, symptom and lifestyle(like if you do any excercises or diet): I'm 50 years old. I often feel tired, eat a lot of sweets, and I don't exercise at all.\n",
            "Extracted Info: ```json\n",
            "{\n",
            "  \"age\": 50,\n",
            "  \"symptoms\": [\"tired\"],\n",
            "  \"diet\": \"unhealthy\",\n",
            "  \"exercise\": \"none\"\n",
            "}\n",
            "```\n",
            "Risk Prediction: ```json\n",
            "{\"diabetes_risk\": \"Medium\", \"bp_risk\": \"Medium\", \"cancer_risk\": \"Medium\"}\n",
            "```\n",
            "Recommendations:\n",
            " * **Boost your energy levels:** Since you're feeling tired, let's focus on improving your sleep hygiene. Aim for 7-8 hours of quality sleep each night.  Establish a regular sleep schedule, create a relaxing bedtime routine, and make sure your bedroom is dark, quiet, and cool.\n",
            "\n",
            "* **Revamp your diet:**  An unhealthy diet significantly impacts energy levels and increases your risk for diabetes, high blood pressure, and cancer. Start small!  Swap sugary drinks for water, add more fruits and vegetables to your meals, and choose lean protein sources. Consider consulting a registered dietitian for personalized dietary guidance.\n",
            "\n",
            "* **Incorporate gentle exercise:**  Even small amounts of physical activity can make a big difference. Begin with short walks a few times a week, gradually increasing the duration and intensity.  Find an activity you enjoy to make it sustainable.  Even 30 minutes of moderate-intensity exercise most days of the week can significantly reduce your risk for the conditions mentioned.\n",
            "\n",
            "* **Manage stress:**  Chronic stress can contribute to fatigue and worsen health risks. Explore stress-reducing techniques like deep breathing exercises, meditation, or yoga.  Consider spending time in nature or engaging in hobbies you enjoy.\n",
            "\n",
            "* **Schedule regular check-ups:**  Given your medium risk for diabetes, high blood pressure, and cancer, it's crucial to schedule regular check-ups with your doctor.  These check-ups will allow for early detection and management of any potential health issues.  Discuss your concerns about fatigue and your lifestyle changes with your physician.\n",
            "\n",
            "* **Hydrate properly:**  Dehydration can lead to fatigue.  Make sure you're drinking plenty of water throughout the day.\n",
            "\n",
            "* **Consider a multivitamin:**  A multivitamin can help fill any nutritional gaps in your diet, particularly if you're struggling to eat healthily.  Discuss this with your doctor before starting any new supplements.\n",
            "==== Final Output ====\n",
            "\n",
            "Extracted Info: ```json\n",
            "{\n",
            "  \"age\": 50,\n",
            "  \"symptoms\": [\"tired\"],\n",
            "  \"diet\": \"unhealthy\",\n",
            "  \"exercise\": \"none\"\n",
            "}\n",
            "```\n",
            "Risk Prediction: ```json\n",
            "{\"diabetes_risk\": \"Medium\", \"bp_risk\": \"Medium\", \"cancer_risk\": \"Medium\"}\n",
            "```\n",
            "Recommendations: * **Boost your energy levels:** Since you're feeling tired, let's focus on improving your sleep hygiene. Aim for 7-8 hours of quality sleep each night.  Establish a regular sleep schedule, create a relaxing bedtime routine, and make sure your bedroom is dark, quiet, and cool.\n",
            "\n",
            "* **Revamp your diet:**  An unhealthy diet significantly impacts energy levels and increases your risk for diabetes, high blood pressure, and cancer. Start small!  Swap sugary drinks for water, add more fruits and vegetables to your meals, and choose lean protein sources. Consider consulting a registered dietitian for personalized dietary guidance.\n",
            "\n",
            "* **Incorporate gentle exercise:**  Even small amounts of physical activity can make a big difference. Begin with short walks a few times a week, gradually increasing the duration and intensity.  Find an activity you enjoy to make it sustainable.  Even 30 minutes of moderate-intensity exercise most days of the week can significantly reduce your risk for the conditions mentioned.\n",
            "\n",
            "* **Manage stress:**  Chronic stress can contribute to fatigue and worsen health risks. Explore stress-reducing techniques like deep breathing exercises, meditation, or yoga.  Consider spending time in nature or engaging in hobbies you enjoy.\n",
            "\n",
            "* **Schedule regular check-ups:**  Given your medium risk for diabetes, high blood pressure, and cancer, it's crucial to schedule regular check-ups with your doctor.  These check-ups will allow for early detection and management of any potential health issues.  Discuss your concerns about fatigue and your lifestyle changes with your physician.\n",
            "\n",
            "* **Hydrate properly:**  Dehydration can lead to fatigue.  Make sure you're drinking plenty of water throughout the day.\n",
            "\n",
            "* **Consider a multivitamin:**  A multivitamin can help fill any nutritional gaps in your diet, particularly if you're struggling to eat healthily.  Discuss this with your doctor before starting any new supplements.\n"
          ]
        }
      ]
    }
  ]
}